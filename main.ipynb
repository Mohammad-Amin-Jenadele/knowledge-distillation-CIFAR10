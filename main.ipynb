{
 "cells": [
  {
   "cell_type": "markdown",
   "metadata": {},
   "source": [
    "## Transfer learning using Resnet50 model on Cifar10 dataset "
   ]
  },
  {
   "cell_type": "markdown",
   "metadata": {},
   "source": [
    "In this part, first we load cifar10 dataset from utils.py, then some sample images with their corresponding labels are plotted. For transfer learning, Resnet50 model is loaded with Imagenet weights"
   ]
  },
  {
   "cell_type": "code",
   "execution_count": null,
   "metadata": {},
   "outputs": [],
   "source": [
    "# Importing libraries\n",
    "import tensorflow as tf\n",
    "from tensorflow import keras\n",
    "import numpy as np\n",
    "import matplotlib.pyplot as plt\n",
    "from utils import *"
   ]
  },
  {
   "cell_type": "code",
   "execution_count": null,
   "metadata": {},
   "outputs": [],
   "source": [
    "# Loading cifar10 dataset\n",
    "(x_train, y_train), (x_test, y_test), (x_val, y_val) = load_cifar10(val_ratio = 0.1)  # 0.1 of training set is valdiation set\n"
   ]
  },
  {
   "cell_type": "code",
   "execution_count": null,
   "metadata": {},
   "outputs": [],
   "source": [
    "# Defining classes exist in Cifar10\n",
    "classes = ['airplane' , 'automobile' , 'bird' , 'cat' , 'deer' , 'dog' , 'frog' , 'horse' , 'ship' ,'truck' ]\n",
    "num_to_class_dic = {i:classes[i] for i in range(len(classes))} # A dictionary that maps numbers 0 , 1 , 2 , ... to classes\n",
    "class_to_num_dic = {classes[i]:i for i in range(len(classes))} # A dictionary that maps classes to numbers 0 , 1 , 2 , ...\n",
    "print(f'number to class dictionary :\\n{num_to_class_dic}')\n",
    "print(f'class to number dictionary :\\n{class_to_num_dic}')\n",
    "\n"
   ]
  }
 ],
 "metadata": {
  "language_info": {
   "name": "python"
  }
 },
 "nbformat": 4,
 "nbformat_minor": 2
}
